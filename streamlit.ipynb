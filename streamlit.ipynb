{
 "cells": [
  {
   "cell_type": "code",
   "execution_count": 1,
   "id": "b23a4f6f-6717-443f-89c2-9c95d56b5557",
   "metadata": {},
   "outputs": [
    {
     "name": "stdout",
     "output_type": "stream",
     "text": [
      "Requirement already satisfied: streamlit==1.36.0 in c:\\users\\ej312ws\\anaconda3\\lib\\site-packages (1.36.0)\n",
      "Requirement already satisfied: altair<6,>=4.0 in c:\\users\\ej312ws\\anaconda3\\lib\\site-packages (from streamlit==1.36.0) (5.0.1)\n",
      "Requirement already satisfied: blinker<2,>=1.0.0 in c:\\users\\ej312ws\\anaconda3\\lib\\site-packages (from streamlit==1.36.0) (1.6.2)\n",
      "Requirement already satisfied: cachetools<6,>=4.0 in c:\\users\\ej312ws\\anaconda3\\lib\\site-packages (from streamlit==1.36.0) (4.2.2)\n",
      "Requirement already satisfied: click<9,>=7.0 in c:\\users\\ej312ws\\anaconda3\\lib\\site-packages (from streamlit==1.36.0) (8.1.7)\n",
      "Requirement already satisfied: numpy<3,>=1.20 in c:\\users\\ej312ws\\anaconda3\\lib\\site-packages (from streamlit==1.36.0) (1.26.4)\n",
      "Requirement already satisfied: packaging<25,>=20 in c:\\users\\ej312ws\\anaconda3\\lib\\site-packages (from streamlit==1.36.0) (23.1)\n",
      "Requirement already satisfied: pandas<3,>=1.3.0 in c:\\users\\ej312ws\\anaconda3\\lib\\site-packages (from streamlit==1.36.0) (1.5.0)\n",
      "Requirement already satisfied: pillow<11,>=7.1.0 in c:\\users\\ej312ws\\anaconda3\\lib\\site-packages (from streamlit==1.36.0) (10.2.0)\n",
      "Requirement already satisfied: protobuf<6,>=3.20 in c:\\users\\ej312ws\\anaconda3\\lib\\site-packages (from streamlit==1.36.0) (3.20.3)\n",
      "Requirement already satisfied: pyarrow>=7.0 in c:\\users\\ej312ws\\anaconda3\\lib\\site-packages (from streamlit==1.36.0) (14.0.2)\n",
      "Requirement already satisfied: requests<3,>=2.27 in c:\\users\\ej312ws\\anaconda3\\lib\\site-packages (from streamlit==1.36.0) (2.31.0)\n",
      "Requirement already satisfied: rich<14,>=10.14.0 in c:\\users\\ej312ws\\anaconda3\\lib\\site-packages (from streamlit==1.36.0) (13.3.5)\n",
      "Requirement already satisfied: tenacity<9,>=8.1.0 in c:\\users\\ej312ws\\anaconda3\\lib\\site-packages (from streamlit==1.36.0) (8.2.2)\n",
      "Requirement already satisfied: toml<2,>=0.10.1 in c:\\users\\ej312ws\\anaconda3\\lib\\site-packages (from streamlit==1.36.0) (0.10.2)\n",
      "Requirement already satisfied: typing-extensions<5,>=4.3.0 in c:\\users\\ej312ws\\anaconda3\\lib\\site-packages (from streamlit==1.36.0) (4.12.0)\n",
      "Requirement already satisfied: gitpython!=3.1.19,<4,>=3.0.7 in c:\\users\\ej312ws\\anaconda3\\lib\\site-packages (from streamlit==1.36.0) (3.1.37)\n",
      "Requirement already satisfied: pydeck<1,>=0.8.0b4 in c:\\users\\ej312ws\\anaconda3\\lib\\site-packages (from streamlit==1.36.0) (0.8.0)\n",
      "Requirement already satisfied: tornado<7,>=6.0.3 in c:\\users\\ej312ws\\anaconda3\\lib\\site-packages (from streamlit==1.36.0) (6.3.3)\n",
      "Requirement already satisfied: watchdog<5,>=2.1.5 in c:\\users\\ej312ws\\anaconda3\\lib\\site-packages (from streamlit==1.36.0) (2.1.6)\n",
      "Requirement already satisfied: jinja2 in c:\\users\\ej312ws\\anaconda3\\lib\\site-packages (from altair<6,>=4.0->streamlit==1.36.0) (3.1.3)\n",
      "Requirement already satisfied: jsonschema>=3.0 in c:\\users\\ej312ws\\anaconda3\\lib\\site-packages (from altair<6,>=4.0->streamlit==1.36.0) (4.19.2)\n",
      "Requirement already satisfied: toolz in c:\\users\\ej312ws\\anaconda3\\lib\\site-packages (from altair<6,>=4.0->streamlit==1.36.0) (0.12.0)\n",
      "Requirement already satisfied: colorama in c:\\users\\ej312ws\\anaconda3\\lib\\site-packages (from click<9,>=7.0->streamlit==1.36.0) (0.4.6)\n",
      "Requirement already satisfied: gitdb<5,>=4.0.1 in c:\\users\\ej312ws\\anaconda3\\lib\\site-packages (from gitpython!=3.1.19,<4,>=3.0.7->streamlit==1.36.0) (4.0.7)\n",
      "Requirement already satisfied: python-dateutil>=2.8.1 in c:\\users\\ej312ws\\anaconda3\\lib\\site-packages (from pandas<3,>=1.3.0->streamlit==1.36.0) (2.8.2)\n",
      "Requirement already satisfied: pytz>=2020.1 in c:\\users\\ej312ws\\anaconda3\\lib\\site-packages (from pandas<3,>=1.3.0->streamlit==1.36.0) (2023.3.post1)\n",
      "Requirement already satisfied: charset-normalizer<4,>=2 in c:\\users\\ej312ws\\anaconda3\\lib\\site-packages (from requests<3,>=2.27->streamlit==1.36.0) (2.0.4)\n",
      "Requirement already satisfied: idna<4,>=2.5 in c:\\users\\ej312ws\\anaconda3\\lib\\site-packages (from requests<3,>=2.27->streamlit==1.36.0) (3.4)\n",
      "Requirement already satisfied: urllib3<3,>=1.21.1 in c:\\users\\ej312ws\\anaconda3\\lib\\site-packages (from requests<3,>=2.27->streamlit==1.36.0) (2.0.7)\n",
      "Requirement already satisfied: certifi>=2017.4.17 in c:\\users\\ej312ws\\anaconda3\\lib\\site-packages (from requests<3,>=2.27->streamlit==1.36.0) (2024.7.4)\n",
      "Requirement already satisfied: markdown-it-py<3.0.0,>=2.2.0 in c:\\users\\ej312ws\\anaconda3\\lib\\site-packages (from rich<14,>=10.14.0->streamlit==1.36.0) (2.2.0)\n",
      "Requirement already satisfied: pygments<3.0.0,>=2.13.0 in c:\\users\\ej312ws\\anaconda3\\lib\\site-packages (from rich<14,>=10.14.0->streamlit==1.36.0) (2.15.1)\n",
      "Requirement already satisfied: smmap<5,>=3.0.1 in c:\\users\\ej312ws\\anaconda3\\lib\\site-packages (from gitdb<5,>=4.0.1->gitpython!=3.1.19,<4,>=3.0.7->streamlit==1.36.0) (4.0.0)\n",
      "Requirement already satisfied: MarkupSafe>=2.0 in c:\\users\\ej312ws\\anaconda3\\lib\\site-packages (from jinja2->altair<6,>=4.0->streamlit==1.36.0) (2.1.3)\n",
      "Requirement already satisfied: attrs>=22.2.0 in c:\\users\\ej312ws\\anaconda3\\lib\\site-packages (from jsonschema>=3.0->altair<6,>=4.0->streamlit==1.36.0) (23.1.0)\n",
      "Requirement already satisfied: jsonschema-specifications>=2023.03.6 in c:\\users\\ej312ws\\anaconda3\\lib\\site-packages (from jsonschema>=3.0->altair<6,>=4.0->streamlit==1.36.0) (2023.7.1)\n",
      "Requirement already satisfied: referencing>=0.28.4 in c:\\users\\ej312ws\\anaconda3\\lib\\site-packages (from jsonschema>=3.0->altair<6,>=4.0->streamlit==1.36.0) (0.30.2)\n",
      "Requirement already satisfied: rpds-py>=0.7.1 in c:\\users\\ej312ws\\anaconda3\\lib\\site-packages (from jsonschema>=3.0->altair<6,>=4.0->streamlit==1.36.0) (0.10.6)\n",
      "Requirement already satisfied: mdurl~=0.1 in c:\\users\\ej312ws\\anaconda3\\lib\\site-packages (from markdown-it-py<3.0.0,>=2.2.0->rich<14,>=10.14.0->streamlit==1.36.0) (0.1.0)\n",
      "Requirement already satisfied: six>=1.5 in c:\\users\\ej312ws\\anaconda3\\lib\\site-packages (from python-dateutil>=2.8.1->pandas<3,>=1.3.0->streamlit==1.36.0) (1.16.0)\n"
     ]
    }
   ],
   "source": [
    "!pip install streamlit==1.36.0"
   ]
  },
  {
   "cell_type": "code",
   "execution_count": 5,
   "id": "904e5b8e-2858-48a5-a421-6d102f7f46c7",
   "metadata": {},
   "outputs": [
    {
     "name": "stdout",
     "output_type": "stream",
     "text": [
      "Overwriting app.py\n"
     ]
    }
   ],
   "source": [
    "%%writefile app.py\n",
    "import streamlit as st\n",
    "import pickle\n",
    "import numpy as np\n",
    "\n",
    "# Load the model\n",
    "with open('lasso.pkl', 'rb') as model_file:\n",
    "    model = pickle.load(model_file)\n",
    "\n",
    "st.title(\"PM10 Predictor\")\n",
    "\n",
    "# Year\n",
    "year = st.selectbox('Year', [2013, 2014, 2015, 2016, 2017, 2018, 2019, 2020, 2021, 2022, 2023])\n",
    "\n",
    "# Month\n",
    "month = st.selectbox('Month', [1, 2, 3, 4, 5, 6, 7, 8, 9, 10, 11, 12])\n",
    "\n",
    "# Day\n",
    "day = st.selectbox('Day', [1, 2, 3, 4, 5, 6, 7, 8, 9, 10, 11, 12, 13, 14, 15, 16, 17, 18, 19, 20, 21, 22, 23, 24, 25, 26, 27, 28, 29, 30, 31])\n",
    "\n",
    "# Hour\n",
    "hour = st.selectbox('Hour', [0, 1, 2, 3, 4, 5, 6, 7, 8, 9, 10, 11, 12, 13, 14, 15, 16, 17, 18, 19, 20, 21, 22, 23])\n",
    "\n",
    "# Input fields for other features\n",
    "pm25 = st.number_input('PM2.5')\n",
    "so2 = st.number_input('SO2')\n",
    "no2 = st.number_input('NO2')\n",
    "co = st.number_input('CO')\n",
    "o3 = st.number_input('O3')\n",
    "temperature = st.number_input('Temperature')\n",
    "pressure = st.number_input('Pressure')\n",
    "dew_point = st.number_input('Dew Point')\n",
    "rain = st.number_input('Rain')\n",
    "\n",
    "# Wind direction variables\n",
    "wd_ENE = st.number_input('wd_ENE')\n",
    "wd_ESE = st.number_input('wd_ESE')\n",
    "wd_N = st.number_input('wd_N')\n",
    "wd_NE = st.number_input('wd_NE')\n",
    "wd_NNE = st.number_input('wd_NNE')\n",
    "wd_NNW = st.number_input('wd_NNW')\n",
    "wd_NW = st.number_input('wd_NW')\n",
    "wd_S = st.number_input('wd_S')\n",
    "wd_SE = st.number_input('wd_SE')\n",
    "wd_SSE = st.number_input('wd_SSE')\n",
    "wd_SSW = st.number_input('wd_SSW')\n",
    "wd_SW = st.number_input('wd_SW')\n",
    "wd_W = st.number_input('wd_W')\n",
    "wd_WNW = st.number_input('wd_WNW')\n",
    "wd_WSW = st.number_input('wd_WSW')\n",
    "\n",
    "if st.button('Predict PM10'):\n",
    "    # Create the query array including all input features\n",
    "    query = np.array([\n",
    "        year, month, day, hour, pm25, so2, no2, co, o3, temperature, pressure, dew_point, rain, \n",
    "        wd_ENE, wd_ESE, wd_N, wd_NE, wd_NNE, wd_NNW, wd_NW, wd_S, wd_SE, wd_SSE, wd_SSW, wd_SW, wd_W, wd_WNW, wd_WSW\n",
    "    ])\n",
    "    query = query.reshape(1, -1)\n",
    "    \n",
    "    # Make prediction and display result\n",
    "    predicted_pm10 = model.predict(query)\n",
    "    st.title(\"The predicted PM10 level is \" + str(round(predicted_pm10[0], 2)))\n"
   ]
  },
  {
   "cell_type": "code",
   "execution_count": null,
   "id": "9a391121-3917-48e8-94b3-a184997402d3",
   "metadata": {},
   "outputs": [],
   "source": [
    "!streamlit run app.py"
   ]
  },
  {
   "cell_type": "code",
   "execution_count": null,
   "id": "c0d0532b-d619-466e-ba94-291c5d6dc746",
   "metadata": {},
   "outputs": [],
   "source": []
  }
 ],
 "metadata": {
  "kernelspec": {
   "display_name": "Python 3 (ipykernel)",
   "language": "python",
   "name": "python3"
  },
  "language_info": {
   "codemirror_mode": {
    "name": "ipython",
    "version": 3
   },
   "file_extension": ".py",
   "mimetype": "text/x-python",
   "name": "python",
   "nbconvert_exporter": "python",
   "pygments_lexer": "ipython3",
   "version": "3.11.9"
  }
 },
 "nbformat": 4,
 "nbformat_minor": 5
}
